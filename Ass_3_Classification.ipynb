{
  "nbformat": 4,
  "nbformat_minor": 0,
  "metadata": {
    "colab": {
      "provenance": [],
      "authorship_tag": "ABX9TyPK+omTgvtnF+s6N2ZH2qWs",
      "include_colab_link": true
    },
    "kernelspec": {
      "name": "python3",
      "display_name": "Python 3"
    },
    "language_info": {
      "name": "python"
    }
  },
  "cells": [
    {
      "cell_type": "markdown",
      "metadata": {
        "id": "view-in-github",
        "colab_type": "text"
      },
      "source": [
        "<a href=\"https://colab.research.google.com/github/Homiez09/nlp-review-colab/blob/main/Ass_3_Classification.ipynb\" target=\"_parent\"><img src=\"https://colab.research.google.com/assets/colab-badge.svg\" alt=\"Open In Colab\"/></a>"
      ]
    },
    {
      "cell_type": "markdown",
      "source": [
        "จงประยุกต์เทคนิค Classification ในการจำแนกข้อมูลผู้ป่วยเบาหวาน"
      ],
      "metadata": {
        "id": "3HKA2ryv8Zod"
      }
    },
    {
      "cell_type": "code",
      "source": [
        "#Load libraries\n",
        "import pandas as pd\n",
        "import numpy as np\n",
        "import matplotlib.pyplot as plt\n",
        "import seaborn as sns\n",
        "import sklearn\n",
        "from sklearn.metrics import confusion_matrix\n",
        "from sklearn.model_selection import train_test_split, cross_val_score\n",
        "from sklearn.preprocessing import LabelEncoder"
      ],
      "metadata": {
        "id": "VcoFzk228X58"
      },
      "execution_count": 6,
      "outputs": []
    },
    {
      "cell_type": "code",
      "execution_count": 7,
      "metadata": {
        "colab": {
          "base_uri": "https://localhost:8080/"
        },
        "id": "QK2FseVi7MAk",
        "outputId": "cde9c55e-c10c-4e4a-8a26-f51204f3f4e7"
      },
      "outputs": [
        {
          "output_type": "stream",
          "name": "stdout",
          "text": [
            "--2023-08-12 18:15:14--  https://docs.google.com/uc?export=download&id=1GECPjQCZMjhh6cdD3T6mox09BP9f6CS3\n",
            "Resolving docs.google.com (docs.google.com)... 74.125.195.101, 74.125.195.113, 74.125.195.100, ...\n",
            "Connecting to docs.google.com (docs.google.com)|74.125.195.101|:443... connected.\n",
            "HTTP request sent, awaiting response... 303 See Other\n",
            "Location: https://doc-04-3k-docs.googleusercontent.com/docs/securesc/ha0ro937gcuc7l7deffksulhg5h7mbp1/0vrml9ngjd59g1detgvf25nus0c84726/1691864100000/15795406498682877275/*/1GECPjQCZMjhh6cdD3T6mox09BP9f6CS3?e=download&uuid=330dbbca-8785-42b8-9bb0-da1f0301dd78 [following]\n",
            "Warning: wildcards not supported in HTTP.\n",
            "--2023-08-12 18:15:14--  https://doc-04-3k-docs.googleusercontent.com/docs/securesc/ha0ro937gcuc7l7deffksulhg5h7mbp1/0vrml9ngjd59g1detgvf25nus0c84726/1691864100000/15795406498682877275/*/1GECPjQCZMjhh6cdD3T6mox09BP9f6CS3?e=download&uuid=330dbbca-8785-42b8-9bb0-da1f0301dd78\n",
            "Resolving doc-04-3k-docs.googleusercontent.com (doc-04-3k-docs.googleusercontent.com)... 74.125.197.132, 2607:f8b0:400e:c03::84\n",
            "Connecting to doc-04-3k-docs.googleusercontent.com (doc-04-3k-docs.googleusercontent.com)|74.125.197.132|:443... connected.\n",
            "HTTP request sent, awaiting response... 200 OK\n",
            "Length: 23873 (23K) [text/csv]\n",
            "Saving to: ‘diabetes.csv’\n",
            "\n",
            "diabetes.csv        100%[===================>]  23.31K  --.-KB/s    in 0s      \n",
            "\n",
            "2023-08-12 18:15:15 (103 MB/s) - ‘diabetes.csv’ saved [23873/23873]\n",
            "\n"
          ]
        }
      ],
      "source": [
        "!wget --no-check-certificate 'https://docs.google.com/uc?export=download&id=1GECPjQCZMjhh6cdD3T6mox09BP9f6CS3' -O diabetes.csv\n",
        "df = pd.read_csv(\"diabetes.csv\")"
      ]
    },
    {
      "cell_type": "code",
      "source": [],
      "metadata": {
        "id": "z1nLhWk78IES"
      },
      "execution_count": null,
      "outputs": []
    }
  ]
}